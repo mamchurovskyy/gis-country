{
 "cells": [
  {
   "cell_type": "markdown",
   "metadata": {},
   "source": [
    "# Импорт необходимых библиотек"
   ]
  },
  {
   "cell_type": "code",
   "execution_count": 1,
   "metadata": {},
   "outputs": [],
   "source": [
    "import geopandas # библиотека для работы с геопространственными данными\n",
    "import ipyleaflet # библиотека интерактивных виджетов для карты, основанная на ipywidgets\n",
    "import json # библиотека для работы с JSON-форматом файлов\n",
    "import os # библиотека функций для работы с операционной системой\n",
    "import psycopg2 # библиотека для связи с базой данных\n",
    "import shapely # библиотека, содержащая класы различных геометрических фигур\n",
    "\n",
    "from contextlib import closing # функция для закрытия соединения с БД при выходе из менеджера контекста\n",
    "from dotenv import load_dotenv # считывания пар ключ-значение из файла .env и установки их как переменные среды\n",
    "from ipywidgets.widgets import (Accordion, BoundedFloatText, Button, HBox, HTML, Layout, RadioButtons, Text, \n",
    "                                Textarea, ToggleButtons, VBox) # Виджеты для создания интерейса пользователя\n",
    "from pyproj import Geod # выполнение прямых и обратных геодезических вычислених (длина фигурной геометрии)\n",
    "from typing import Callable, Optional, Union # для тайп-хинтингов Python"
   ]
  },
  {
   "cell_type": "markdown",
   "metadata": {},
   "source": [
    "## Игнорируем предупреждения"
   ]
  },
  {
   "cell_type": "code",
   "execution_count": 2,
   "metadata": {},
   "outputs": [],
   "source": [
    "import warnings\n",
    "warnings.filterwarnings('ignore')"
   ]
  },
  {
   "cell_type": "markdown",
   "metadata": {},
   "source": [
    "# Создание интерфейса"
   ]
  },
  {
   "cell_type": "markdown",
   "metadata": {},
   "source": [
    "## Карта: базовый слой, панель контроля слоёв, полноэкранное отображение"
   ]
  },
  {
   "cell_type": "code",
   "execution_count": 3,
   "metadata": {},
   "outputs": [],
   "source": [
    "# Создаём объект карты\n",
    "ukr_map = ipyleaflet.Map(basemap=ipyleaflet.basemaps.OpenStreetMap.Mapnik, \n",
    "                         center=(49.0275, 31.482778), zoom=5, max_zoom=20, scroll_wheel_zoom=True)\n",
    "# Добавляем панель контроля слоёв для возможности скрытия последних\n",
    "ukr_map.add_control(ipyleaflet.LayersControl(position='topright'))\n",
    "# Добавляем возможность открытия карты на весь экран\n",
    "ukr_map.add_control(ipyleaflet.FullScreenControl())\n",
    "# Добавляем отображение текущего масштаба карты\n",
    "ukr_map.add_control(ipyleaflet.ScaleControl(position='bottomleft', imperial=False))"
   ]
  },
  {
   "cell_type": "markdown",
   "metadata": {},
   "source": [
    "## Группы управления: построение маршрута, создание 2D сетки, поле сообщений об ошибках"
   ]
  },
  {
   "cell_type": "code",
   "execution_count": 4,
   "metadata": {},
   "outputs": [],
   "source": [
    "# Создаём кнопки для построения и удаления маршрута\n",
    "remove_route_button = Button(description='Remove Route!', button_style='danger')\n",
    "build_route_button = Button(description='Build Route!', button_style='success')\n",
    "\n",
    "# Создаём текстовое поле для вывода длины растояния\n",
    "route_distance_field = Text(placeholder='Route Distance', disabled=True)\n",
    "\n",
    "# Создаём числовые поля для задания длины и ширины ячейки сетки\n",
    "cell_width_floatfield = BoundedFloatText(value=15000, min=100.0, max=80000.0, step=100, description='Cell Width (m)')\n",
    "cell_height_floatfield = BoundedFloatText(value=15000, min=100.0, max=80000.0, step=100, description='Cell Height (m)')\n",
    "\n",
    "# Создаём кнопки для создания и удаления 2D сетки\n",
    "create_grid_button = Button(description='Create 2D Grid!', button_style='success')\n",
    "remove_grid_button = Button(description='Remove 2D Grid!', button_style='danger')\n",
    "\n",
    "# Создаём поле для отображение ошибок и кнопку для его очистки\n",
    "errors_textarea = Textarea(placeholder='Error messages will be printed here', \n",
    "                           layout=Layout(height='150px', min_height='100px', width='auto'))\n",
    "clear_errors_textarea_button = Button(description='Clear', button_style='warning')\n",
    "\n",
    "# Реакция на клик по кнопке 'Clear'\n",
    "def on_clear_errors_textarea_button_clicked(b) -> None:\n",
    "    errors_textarea.value = \"\"\n",
    "    \n",
    "clear_errors_textarea_button.on_click(on_clear_errors_textarea_button_clicked)\n",
    "\n",
    "# Создаём кнопки для выбора слоя, к которому относить маркер\n",
    "layers_togglebuttons = ToggleButtons(options=['border', 'regions', 'districts'], value='districts',\n",
    "                                     button_style='info',\n",
    "                                     tooltips=['Border Layer (only for 2D grid)',\n",
    "                                               'Regions Layer (for route building and 2D grid creation)',\n",
    "                                               'Districts Layer (for route building and 2D grid creation)'])\n",
    "\n",
    "# Настраиваем размещение компонентов каждой из трёх групп\n",
    "route_controls = VBox([HBox([build_route_button, remove_route_button]), route_distance_field])\n",
    "grid_controls = VBox([HBox([cell_width_floatfield, create_grid_button]), \n",
    "                      HBox([cell_height_floatfield, remove_grid_button])])\n",
    "errors_controls = VBox([errors_textarea, clear_errors_textarea_button])\n",
    "\n",
    "# Создаём \"гармошку\"\n",
    "accordion = Accordion(children=[route_controls, grid_controls, errors_controls])\n",
    "accordion.set_title(0, 'Build Route')\n",
    "accordion.set_title(1, 'Create 2d Grid')\n",
    "accordion.set_title(2, 'Error Messages')\n",
    "\n",
    "# Окончательный интерфейс пользователя\n",
    "application = VBox([ukr_map, layers_togglebuttons, accordion])"
   ]
  },
  {
   "cell_type": "markdown",
   "metadata": {},
   "source": [
    "# Работа с картой"
   ]
  },
  {
   "cell_type": "markdown",
   "metadata": {},
   "source": [
    "## Слой \"Граница Украины\": загрузка данных с БД, создание и добавление слоя"
   ]
  },
  {
   "cell_type": "code",
   "execution_count": 5,
   "metadata": {},
   "outputs": [],
   "source": [
    "# Функция для создания датафрейма с данными из таблиц БД\n",
    "def get_geodataframe_data_from_db(sql_query: str) -> geopandas.GeoDataFrame:\n",
    "    load_dotenv()\n",
    "    with closing(psycopg2.connect(dbname=os.environ.get('DB_NAME'), \n",
    "                                  user=os.environ.get('DB_USER'), \n",
    "                                  password=os.environ.get('DB_PASSWORD'))) as conn:\n",
    "        try:\n",
    "            return geopandas.read_postgis(sql=sql_query, con=conn)\n",
    "        except (Exception, psycopg2.DatabaseError) as error:\n",
    "            accordion.selected_index = 2\n",
    "            errors_textarea.value = str(error)\n",
    "\n",
    "\n",
    "# Создаём датафрейм с данными из таблицы regions, в случае успешной операции добавляем слой на карту\n",
    "if (ukraine_border_data := get_geodataframe_data_from_db('SELECT * FROM border;')) is not None:\n",
    "    ukraine_border_layer = ipyleaflet.GeoData(geo_dataframe=ukraine_border_data,\n",
    "                                              style={\n",
    "                                                  'color': 'purple', 'fillColor': 'pink', 'opacity': 0.5,\n",
    "                                                  'weight': 1.9, 'dashArray': '2', 'fillOpacity': 0.6\n",
    "                                              },\n",
    "                                              hover_style={\n",
    "                                                  'color': 'pink', 'fillColor': 'purple' , 'fillOpacity': 0.5\n",
    "                                              },\n",
    "                                              name='Границы Украины')\n",
    "    ukr_map.add_layer(ukraine_border_layer)"
   ]
  },
  {
   "cell_type": "markdown",
   "metadata": {},
   "source": [
    "## Слой \"Области Украины\": загрузка данных с БД, создание и добавление слоя"
   ]
  },
  {
   "cell_type": "code",
   "execution_count": 6,
   "metadata": {},
   "outputs": [],
   "source": [
    "# Создаём датафрейм с данными из таблицы regions\n",
    "ukraine_regions_data = get_geodataframe_data_from_db('SELECT * FROM regions;')\n",
    "# В случае успешной операции добавляем слой на карту\n",
    "if ukraine_regions_data is not None:\n",
    "    ukraine_regions_layer = ipyleaflet.GeoData(geo_dataframe=ukraine_regions_data,\n",
    "                                               style={\n",
    "                                                   'color': 'orange', 'fillColor': 'green', 'opacity': 0.5,\n",
    "                                                   'weight': 1.9, 'dashArray': '2', 'fillOpacity': 0.6\n",
    "                                                       },\n",
    "                                               hover_style={\n",
    "                                                   'color': 'green', 'fillColor': 'orange' , 'fillOpacity': 0.5\n",
    "                                               },\n",
    "                                               name='Области Украины')\n",
    "    ukr_map.add_layer(ukraine_regions_layer)"
   ]
  },
  {
   "cell_type": "markdown",
   "metadata": {},
   "source": [
    "## Слой \"Районы Украины\": загрузка данных с БД, создание и добавление слоя"
   ]
  },
  {
   "cell_type": "code",
   "execution_count": 7,
   "metadata": {},
   "outputs": [],
   "source": [
    "# Создаём датафрейм с данными из таблицы districts\n",
    "ukraine_districts_data = get_geodataframe_data_from_db('SELECT * FROM districts;')\n",
    "# В случае успешной операции добавляем слой на карту\n",
    "if ukraine_districts_data is not None:\n",
    "    ukraine_districts_layer = ipyleaflet.GeoData(geo_dataframe=ukraine_districts_data,\n",
    "                                                 style={\n",
    "                                                     'color': 'blue', 'fillColor': 'yellow', 'opacity': 0.5,\n",
    "                                                     'weight': 1.9, 'dashArray': '2', 'fillOpacity': 0.6\n",
    "                                                       },\n",
    "                                                 hover_style={\n",
    "                                                     'color': 'yellow', 'fillColor': 'blue' , 'fillOpacity': 0.5\n",
    "                                                 },\n",
    "                                                 name='Районы Украины')\n",
    "    ukr_map.add_layer(ukraine_districts_layer)"
   ]
  },
  {
   "cell_type": "markdown",
   "metadata": {},
   "source": [
    "## Слой маркеров: добавление/удаление маркеров, кластер маркеров, функции-слушатели"
   ]
  },
  {
   "cell_type": "code",
   "execution_count": 8,
   "metadata": {},
   "outputs": [],
   "source": [
    "# Создание кластера маркеров, который будет содержать все маркеры, созданные пользователем\n",
    "user_markers_cluster = ipyleaflet.MarkerCluster(name='Маркеры пользователя')\n",
    "ukr_map.add_layer(user_markers_cluster)\n",
    "\n",
    "# Создание шаблона поп-апа\n",
    "popup_text_template = HTML()\n",
    "\n",
    "\n",
    "# Функция удаления всех маркеров из кластера маркеров\n",
    "def clear_marker_cluster(cluster: ipyleaflet.leaflet.MarkerCluster) -> None:\n",
    "    cluster.markers = ()\n",
    "    \n",
    "    \n",
    "# Функция добавление маркера в кластер маркеров пользователя\n",
    "def add_marker_to_cluster(marker: ipyleaflet.leaflet.Marker, cluster: ipyleaflet.leaflet.MarkerCluster) -> None:\n",
    "    current_markers_in_cluster = list(cluster.markers)\n",
    "    current_markers_in_cluster.append(marker)\n",
    "    cluster.markers = current_markers_in_cluster\n",
    "\n",
    "    \n",
    "# Функция удаления маркера из кластера маркеров пользователя\n",
    "def remove_marker_from_cluster(marker: ipyleaflet.leaflet.Marker, cluster: ipyleaflet.leaflet.MarkerCluster) -> None:\n",
    "    current_markers_in_cluster = list(cluster.markers)\n",
    "    current_markers_in_cluster.remove(marker)\n",
    "    cluster.markers = current_markers_in_cluster\n",
    "    \n",
    "    \n",
    "# Функция подстановки текста в поп-ап маркера\n",
    "def set_popup_text(element: ipyleaflet.leaflet.Marker, text: str) -> None:\n",
    "    popup_text_template.value = text\n",
    "    element.popup = popup_text_template\n",
    "    \n",
    "    \n",
    "# Функция реакции на перемещение маркера, созданного пользователем\n",
    "def on_marker_move(marker: ipyleaflet.leaflet.Marker) -> None:\n",
    "    def callback(*args, **kwargs) -> Callable:\n",
    "        # Установка текста поп-апа для маркера\n",
    "        set_popup_text(marker, str(kwargs.get('location')))\n",
    "    return callback\n",
    "\n",
    "\n",
    "# Функция реакции на двойной клик по маркеру\n",
    "def on_marker_double_click(marker: ipyleaflet.leaflet.Marker) -> None:\n",
    "    def callback(*args, **kwargs) -> Callable:\n",
    "        # Удаление маркера из кластера\n",
    "        remove_marker_from_cluster(marker=marker, cluster=user_markers_cluster)\n",
    "    return callback\n",
    "\n",
    "\n",
    "# Функция реакции нажатия на карту -> добавление маркера в точке клика\n",
    "def on_map_click(**kwargs):\n",
    "    if kwargs.get('type') == 'click':\n",
    "        # Создаём маркер в точке клика\n",
    "        default_marker = ipyleaflet.Marker(location=kwargs.get('coordinates'))\n",
    "        # Добавляем поп-ап с информацией о координатах\n",
    "        set_popup_text(default_marker, str(kwargs.get('coordinates')))\n",
    "        # Устанавливаем функцию-прослушку на перемещение маркера\n",
    "        default_marker.on_move(on_marker_move(default_marker))\n",
    "        # Устанавливаем функцию-прослушку на перемещение маркера\n",
    "        default_marker.on_dblclick(on_marker_double_click(default_marker))\n",
    "        # Добавляем маркер в соответствующий кластер\n",
    "        add_marker_to_cluster(marker=default_marker, cluster=user_markers_cluster)\n",
    "\n",
    "\n",
    "# Устанавливаем функцию-прослушку для карты на добавление маркера в точке клика\n",
    "ukr_map.on_interaction(on_map_click)"
   ]
  },
  {
   "cell_type": "markdown",
   "metadata": {},
   "source": [
    "## Слой заданного маршрута: генерация запроса, вызов функции БД, вывод на карте"
   ]
  },
  {
   "cell_type": "code",
   "execution_count": 9,
   "metadata": {},
   "outputs": [],
   "source": [
    "# Создаём переменную маршрута, кластер опорных точек маршрута и иконку для маркеров\n",
    "route = ipyleaflet.AntPath(name='Маршрут', dash_array=[10, 20], delay=500, color='black', pulse_color='red')\n",
    "centroids = ipyleaflet.MarkerCluster()\n",
    "icon = ipyleaflet.Icon(icon_url='./images/red_marker.png', icon_size=[18, 28.8])\n",
    "# Объединяем маршрут и кластер маркеров в один шар\n",
    "route_layer_group = ipyleaflet.LayerGroup(layers=(route, centroids), name='Маршрут')\n",
    "ukr_map.add_layer(route_layer_group)\n",
    "\n",
    "\n",
    "# Функция генерации парметра функции, который содержит координаты всех маркеров\n",
    "def get_generated_query() -> str:\n",
    "    query = 'LINESTRING('\n",
    "    for marker in user_markers_cluster.markers:\n",
    "        for coordinate in marker.location[::-1]:\n",
    "            query += f'{coordinate} '\n",
    "        query += ','\n",
    "    query = query.rstrip(' ,')\n",
    "    query += ')'\n",
    "    return query\n",
    "\n",
    "\n",
    "# Обращение к функции БД по постройке маршрута\n",
    "def get_route_form_db(table_name: str) -> geopandas.GeoDataFrame:\n",
    "    # load_dotenv()\n",
    "    with closing(psycopg2.connect(dbname=os.environ.get('DB_NAME'), \n",
    "                                  user=os.environ.get('DB_USER'), \n",
    "                                  password=os.environ.get('DB_PASSWORD'))) as conn:\n",
    "        try:\n",
    "            sql_query = f\"SELECT * FROM build_route('{get_generated_query()}', '{table_name}');\"\n",
    "            return geopandas.GeoDataFrame.from_postgis(sql=sql_query, con=conn, geom_col='route_geometry')\n",
    "        except (Exception, psycopg2.DatabaseError) as error:\n",
    "            accordion.selected_index = 2\n",
    "            errors_textarea.value = str(error)\n",
    "\n",
    "\n",
    "def set_route() -> None:\n",
    "    route_df = get_route_form_db(layers_togglebuttons.get_interact_value())\n",
    "    if route_df is not None:\n",
    "        # Удаляем маркеры пользователя\n",
    "        clear_marker_cluster(user_markers_cluster)\n",
    "        # Настраиваем \"змейку\"\n",
    "        route.locations = [coords[::-1] for coords in json.loads(route_df.iloc[0, 1])['coordinates']]\n",
    "        # Настраиваем маркеры в опорных точках маршрута\n",
    "        if centroids.markers:\n",
    "            clear_marker_cluster(centroids)\n",
    "        for coords in route.locations:\n",
    "            add_marker_to_cluster(ipyleaflet.Marker(location=coords, icon=icon, draggable=False), centroids)  \n",
    "        # Выводим длину маршрута\n",
    "        route_distance_field.value = f\"{round(Geod(ellps='WGS84').geometry_length(route_df.iloc[0, 0]) / 1000, 3)} km\"\n",
    "\n",
    "        \n",
    "# Функция реакции на клик по кнопке 'Build Route!'\n",
    "def on_build_route_button_clicked(b) -> None:\n",
    "    if user_markers_cluster.markers:\n",
    "        set_route()\n",
    "\n",
    "        \n",
    "# Функция реакции на клик по кнопке 'Remove Route!'\n",
    "def on_remove_route_button_clicked(b) -> None:\n",
    "    route.locations = []\n",
    "    clear_marker_cluster(centroids)\n",
    "    route_distance_field.value = ''\n",
    "\n",
    "        \n",
    "build_route_button.on_click(on_build_route_button_clicked)\n",
    "remove_route_button.on_click(on_remove_route_button_clicked)"
   ]
  },
  {
   "cell_type": "markdown",
   "metadata": {},
   "source": [
    "## Слой 2D сетки: генерация запроса, вызов функции БД, вывод на карте"
   ]
  },
  {
   "cell_type": "code",
   "execution_count": 10,
   "metadata": {},
   "outputs": [],
   "source": [
    "# Создаём переменную слоя 2D сетки\n",
    "grid_2d_layer = None\n",
    "numbers_to_layers = {\n",
    "    'border': ukraine_border_data,\n",
    "    'regions': ukraine_regions_data,\n",
    "    'districts': ukraine_districts_data\n",
    "}\n",
    "\n",
    "\n",
    "def get_polygon_by_marker_position(tb_name: str) -> shapely.geometry.multipolygon.MultiPolygon:\n",
    "    m_point = shapely.geometry.Point(user_markers_cluster.markers[0].location[::-1])\n",
    "    for polygon in numbers_to_layers[tb_name]['geom']:\n",
    "        if m_point.within(polygon):\n",
    "            return polygon\n",
    "    return None\n",
    "\n",
    "\n",
    "                                 \n",
    "# Обращение к функции БД по постройке маршрута\n",
    "def get_grid_from_db(polygon: shapely.geometry.multipolygon.MultiPolygon) -> geopandas.GeoDataFrame:\n",
    "    # load_dotenv()\n",
    "    with closing(psycopg2.connect(dbname=os.environ.get('DB_NAME'), \n",
    "                                  user=os.environ.get('DB_USER'), \n",
    "                                  password=os.environ.get('DB_PASSWORD'))) as conn:\n",
    "        try:\n",
    "            sql_query = f\"SELECT * FROM create_grid_2d('{str(polygon)}', {int(cell_width_floatfield.value)},\\\n",
    "                          {int(cell_height_floatfield.value)});\"\n",
    "            return geopandas.GeoDataFrame.from_postgis(sql=sql_query, con=conn, geom_col='geom')\n",
    "        except (Exception, psycopg2.DatabaseError) as error:\n",
    "            accordion.selected_index = 2\n",
    "            errors_textarea.value = str(error)\n",
    "\n",
    "\n",
    "def set_grid_2d() -> None:\n",
    "    polygon = get_polygon_by_marker_position(layers_togglebuttons.get_interact_value())\n",
    "    if polygon is not None:\n",
    "        grid_2d = get_grid_from_db(polygon)\n",
    "        if grid_2d is not None:\n",
    "            global grid_2d_layer\n",
    "            if grid_2d_layer is None:\n",
    "                grid_2d_layer = ipyleaflet.GeoData(geo_dataframe=grid_2d, \n",
    "                                                   style={'color': '#00ffff', 'fillOpacity': 0.2},\n",
    "                                                   name='2D сетка')\n",
    "                ukr_map.add_layer(grid_2d_layer)\n",
    "            else:\n",
    "                grid_2d_layer.data.clear()\n",
    "                grid_2d_layer.geo_dataframe = grid_2d\n",
    "        \n",
    "              \n",
    "# Функция реакции на клик по кнопке 'Build Route!'\n",
    "def on_create_grid_button_clicked(b) -> None:\n",
    "    if len(user_markers_cluster.markers) == 1:\n",
    "        set_grid_2d()\n",
    "    else:\n",
    "        accordion.selected_index = 2\n",
    "        errors_textarea.value = 'Для построение 2D сетки необходим один маркер!!!'\n",
    "\n",
    "        \n",
    "# Функция реакции на клик по кнопке 'Remove Route!'\n",
    "def on_remove_grid_button_clicked(b) -> None:\n",
    "    global grid_2d_layer\n",
    "    if grid_2d_layer is not None:\n",
    "        ukr_map.remove_layer(grid_2d_layer)\n",
    "        grid_2d_layer = None\n",
    "\n",
    "    \n",
    "create_grid_button.on_click(on_create_grid_button_clicked)\n",
    "remove_grid_button.on_click(on_remove_grid_button_clicked)"
   ]
  },
  {
   "cell_type": "code",
   "execution_count": 11,
   "metadata": {
    "scrolled": false
   },
   "outputs": [
    {
     "data": {
      "application/vnd.jupyter.widget-view+json": {
       "model_id": "594d5e65251c4c2ba78ffdcb8982f251",
       "version_major": 2,
       "version_minor": 0
      },
      "text/plain": [
       "VBox(children=(Map(center=[49.0275, 31.482778], controls=(ZoomControl(options=['position', 'zoom_in_text', 'zo…"
      ]
     },
     "execution_count": 11,
     "metadata": {},
     "output_type": "execute_result"
    }
   ],
   "source": [
    "application"
   ]
  },
  {
   "cell_type": "code",
   "execution_count": null,
   "metadata": {},
   "outputs": [],
   "source": []
  }
 ],
 "metadata": {
  "kernelspec": {
   "display_name": "Python 3 (ipykernel)",
   "language": "python",
   "name": "python3"
  },
  "language_info": {
   "codemirror_mode": {
    "name": "ipython",
    "version": 3
   },
   "file_extension": ".py",
   "mimetype": "text/x-python",
   "name": "python",
   "nbconvert_exporter": "python",
   "pygments_lexer": "ipython3",
   "version": "3.10.6"
  },
  "vscode": {
   "interpreter": {
    "hash": "f9d8d73fe215e8511cb00ecb4d8124d9074eb51be9bec3eac7b68ab0b9d907ec"
   }
  }
 },
 "nbformat": 4,
 "nbformat_minor": 2
}
